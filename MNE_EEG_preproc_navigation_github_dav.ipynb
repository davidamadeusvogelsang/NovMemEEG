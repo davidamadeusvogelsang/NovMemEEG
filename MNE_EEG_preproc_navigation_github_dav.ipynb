{
 "cells": [
  {
   "cell_type": "markdown",
   "id": "0364aeda",
   "metadata": {},
   "source": [
    "#### MNE  preproc EEG resting state "
   ]
  },
  {
   "cell_type": "code",
   "execution_count": 1,
   "id": "a5f22d72",
   "metadata": {},
   "outputs": [],
   "source": [
    "#Import some basic libraries first \n",
    "import os\n",
    "import numpy as np\n",
    "import pandas as pd\n",
    "import matplotlib.pyplot as plt\n",
    "import os.path as op\n",
    "import time\n",
    "from time import sleep \n",
    "from time import time\n",
    "from joblib import Parallel, delayed\n",
    "#import MNE \n",
    "import mne\n",
    "from mne.channels.montage import get_builtin_montages\n",
    "from mne.time_frequency import tfr_morlet #, psd_welch\n",
    "\n",
    "from mne import io\n",
    "from mne.preprocessing import (ICA, corrmap, create_ecg_epochs,\n",
    "                               create_eog_epochs)\n",
    "\n"
   ]
  },
  {
   "cell_type": "code",
   "execution_count": 10,
   "id": "780c62e0",
   "metadata": {},
   "outputs": [],
   "source": [
    "# Get directories \n",
    "data_path = '/add/your/path/here'\n",
    "save_path = '/add/your/path/here'"
   ]
  },
  {
   "cell_type": "code",
   "execution_count": 20,
   "id": "2f7c33a2",
   "metadata": {},
   "outputs": [],
   "source": [
    "# Specify if you want to plot preproc figures\n",
    "plot_figures = 0 \n",
    "# Specify if you want to run ICA \n",
    "run_ica = 1\n",
    "# Specify the day \n",
    "day = \"DAY1\"\n",
    "#Specify navigation\n",
    "EEGtask = \"navigateEEG2\"\n",
    "\n",
    "navigate_files = {\"DAY1\": [], \"DAY2\": []}\n",
    "participant_ids = []"
   ]
  },
  {
   "cell_type": "code",
   "execution_count": 21,
   "id": "4a57d89c",
   "metadata": {},
   "outputs": [
    {
     "name": "stdout",
     "output_type": "stream",
     "text": [
      "['/Volumes/DAV/NovMemEEG/EEG_data_test/sub-051/sub-051_ses-DAY1/sub-051_navigateEEG2.bdf', '/Volumes/DAV/NovMemEEG/EEG_data_test/sub-052/sub-052_ses-DAY1/sub-052_navigateEEG2.bdf']\n"
     ]
    }
   ],
   "source": [
    "#First create all the files that need to be preprocessed \n",
    "for participant_folder in os.listdir(data_path):\n",
    "    participant_id = participant_folder.split('-')[1]\n",
    "    \n",
    "    participant_ids.append(participant_id)\n",
    "    \n",
    "    navigate_filename = f\"sub-{participant_id}_{EEGtask}.bdf\"\n",
    "    session_filename = f\"sub-{participant_id}_ses-{day}\"\n",
    "    navigate_file = os.path.join(data_path, participant_folder, session_filename, navigate_filename)\n",
    "    \n",
    "    navigate_files[day].append(navigate_file)\n",
    "\n",
    "print(navigate_files[day])"
   ]
  },
  {
   "cell_type": "code",
   "execution_count": 22,
   "id": "fc48177d",
   "metadata": {},
   "outputs": [],
   "source": [
    "def run_preproc(filename):\n",
    "    rawrseeg = mne.io.read_raw_bdf(filename, preload=True, verbose=None) #\n",
    "    \n",
    "    # Downsample\n",
    "    rsEEG_data = rawrseeg.copy().resample(sfreq=250)\n",
    "    \n",
    "    # set channel types\n",
    "    rsEEG_data.set_channel_types({'EXG1': 'eog',\n",
    "                                 'EXG2': 'eog',\n",
    "                                 'EXG3': 'eog',\n",
    "                                 'EXG4': 'eog',\n",
    "                                 'EXG5': 'eog',\n",
    "                                 'EXG6': 'eog',\n",
    "                                 'EXG7': 'eog',\n",
    "                                 'EXG8': 'eog',})\n",
    "    EOG_chans = ['EXG1', 'EXG2', 'EXG3', 'EXG4', 'EXG5', 'EXG6']\n",
    "    \n",
    "    # Set reference\n",
    "    rsEEG_data = rsEEG_data.set_eeg_reference(ref_channels=['EXG5', 'EXG6'],\n",
    "                                          projection=False, verbose=False)\n",
    "\n",
    "    \n",
    "    # Set channel montage\n",
    "    chs = mne.channels.make_standard_montage('standard_1020')\n",
    "    rsEEG_data.set_montage(chs, verbose=False);\n",
    "    if plot_figures:\n",
    "        rsEEG_data.plot_sensors(kind='3d', ch_type='eeg')\n",
    "        \n",
    "    # Filter \n",
    "    rsEEG_data = rsEEG_data.filter(l_freq=0.5,h_freq=48)\n",
    "    \n",
    "    # RUN ICA \n",
    "    if run_ica:\n",
    "\n",
    "        #ICA settings \n",
    "        method = 'picard'\n",
    "        max_iter = 500\n",
    "        fit_params = dict(fastica_it=5)\n",
    "        random_state = 97 # ICA fitting is not deterministic and ICs may not always be returned in the same order, so random state/seed indicates you get same results every time your run \n",
    "\n",
    "        ica = mne.preprocessing.ICA(n_components=30, \n",
    "                                    max_iter=max_iter, \n",
    "                                    method=method,\n",
    "                                    fit_params=fit_params,\n",
    "                                    random_state=random_state)\n",
    "        ica.fit(rsEEG_data)\n",
    "    else:\n",
    "        print(\"ICA already run and loading ICA data\")\n",
    "        #ica = read_ica(os.path.join(RESULTS_PATH, 'ICA', subj_label + '-ica.fif'))\n",
    "        \n",
    "    # Automated ICA component rejection: drop ICs that correlate with EOG\n",
    "    ica.exclude = []\n",
    "\n",
    "    drop_inds = []\n",
    "    for chi in EOG_chans:\n",
    "        inds, scores = ica.find_bads_eog(rsEEG_data, ch_name=chi, threshold=2.5,\n",
    "                                         l_freq=1, h_freq=10, verbose=False)\n",
    "        drop_inds.extend(inds)\n",
    "        if plot_figures:\n",
    "            ica.plot_scores(scores, exclude=inds, labels=chi);\n",
    "\n",
    "    drop_inds = list(set(drop_inds))\n",
    "    \n",
    "    # Check the set of components to be dropped\n",
    "    ica.exclude = drop_inds\n",
    "    \n",
    "    if plot_figures: \n",
    "        # Check the set of components to be dropped\n",
    "        print('Number of component to drop: \\t', len(ica.exclude))\n",
    "        print('Dropped component indices: \\t', ica.exclude)\n",
    "    \n",
    "    # Apply ICA to data\n",
    "    rsEEG_data = ica.apply(rsEEG_data);\n",
    "    \n",
    "    # Check the overlay of the data, with the components to be rejected\n",
    "    if plot_figures: \n",
    "        ica.plot_overlay(rsEEG_data, exclude=drop_inds);\n",
    "    \n",
    "    # Create events \n",
    "    events = mne.make_fixed_length_events(rsEEG_data, id=1, start=3, \n",
    "                                          stop=None, duration=3, \n",
    "                                          overlap = 0.0)\n",
    "    \n",
    "    if plot_figures:\n",
    "        #plot the events \n",
    "        mne.viz.plot_events(events[:600])\n",
    "    \n",
    "    # define event in rsEEG\n",
    "    event_ids = {\"navigate\": 1}\n",
    "    \n",
    "    # Create epochs\n",
    "    tmin = -0.5\n",
    "    tmax = 2\n",
    "    event_id = event_ids\n",
    "\n",
    "    epochs = mne.Epochs(rsEEG_data, events, \n",
    "                        event_id = event_ids, \n",
    "                        tmin=tmin, tmax=tmax, \n",
    "                        baseline=None, \n",
    "                        detrend=1)\n",
    "    return epochs \n"
   ]
  },
  {
   "cell_type": "code",
   "execution_count": 23,
   "id": "f3e096aa",
   "metadata": {},
   "outputs": [],
   "source": [
    "# "
   ]
  },
  {
   "cell_type": "code",
   "execution_count": 24,
   "id": "78d1fef5",
   "metadata": {},
   "outputs": [
    {
     "name": "stdout",
     "output_type": "stream",
     "text": [
      "Extracting EDF parameters from /Volumes/DAV/NovMemEEG/EEG_data_test/sub-051/sub-051_ses-DAY1/sub-051_navigateEEG2.bdf...\n",
      "Extracting EDF parameters from /Volumes/DAV/NovMemEEG/EEG_data_test/sub-052/sub-052_ses-DAY1/sub-052_navigateEEG2.bdf...\n",
      "BDF file detected\n",
      "BDF file detected\n",
      "Setting channel info structure...\n",
      "Creating raw.info structure...\n",
      "Reading 0 ... 319487  =      0.000 ...   156.000 secs...\n",
      "Setting channel info structure...\n",
      "Creating raw.info structure...\n",
      "Reading 0 ... 311295  =      0.000 ...   152.000 secs...\n",
      "Trigger channel has a non-zero initial value of 65536 (consider using initial_event=True to detect this event)\n",
      "Removing orphaned offset at the beginning of the file.\n",
      "1 events found\n",
      "Event IDs: [65536]\n",
      "Trigger channel has a non-zero initial value of 73728 (consider using initial_event=True to detect this event)\n",
      "Trigger channel has a non-zero initial value of 65536 (consider using initial_event=True to detect this event)\n",
      "Removing orphaned offset at the beginning of the file.\n",
      "1 events found\n",
      "Event IDs: [65536]\n",
      "Filtering raw data in 1 contiguous segment\n",
      "Setting up band-pass filter from 0.5 - 48 Hz\n",
      "\n",
      "FIR filter parameters\n",
      "---------------------\n",
      "Designing a one-pass, zero-phase, non-causal bandpass filter:\n",
      "- Windowed time-domain design (firwin) method\n",
      "- Hamming window with 0.0194 passband ripple and 53 dB stopband attenuation\n",
      "- Lower passband edge: 0.50\n",
      "- Lower transition bandwidth: 0.50 Hz (-6 dB cutoff frequency: 0.25 Hz)\n",
      "- Upper passband edge: 48.00 Hz\n",
      "- Upper transition bandwidth: 12.00 Hz (-6 dB cutoff frequency: 54.00 Hz)\n",
      "- Filter length: 1651 samples (6.604 sec)\n",
      "\n",
      "Fitting ICA to data using 32 channels (please be patient, this may take a while)\n"
     ]
    },
    {
     "name": "stderr",
     "output_type": "stream",
     "text": [
      "[Parallel(n_jobs=1)]: Using backend SequentialBackend with 1 concurrent workers.\n",
      "[Parallel(n_jobs=1)]: Done   1 out of   1 | elapsed:    0.0s remaining:    0.0s\n",
      "[Parallel(n_jobs=1)]: Done   2 out of   2 | elapsed:    0.0s remaining:    0.0s\n",
      "[Parallel(n_jobs=1)]: Done   3 out of   3 | elapsed:    0.0s remaining:    0.0s\n",
      "[Parallel(n_jobs=1)]: Done   4 out of   4 | elapsed:    0.0s remaining:    0.0s\n",
      "[Parallel(n_jobs=1)]: Done  32 out of  32 | elapsed:    0.0s finished\n"
     ]
    },
    {
     "name": "stdout",
     "output_type": "stream",
     "text": [
      "Selecting by number: 30 components\n",
      "Trigger channel has a non-zero initial value of 73728 (consider using initial_event=True to detect this event)\n",
      "Filtering raw data in 1 contiguous segment\n",
      "Setting up band-pass filter from 0.5 - 48 Hz\n",
      "\n",
      "FIR filter parameters\n",
      "---------------------\n",
      "Designing a one-pass, zero-phase, non-causal bandpass filter:\n",
      "- Windowed time-domain design (firwin) method\n",
      "- Hamming window with 0.0194 passband ripple and 53 dB stopband attenuation\n",
      "- Lower passband edge: 0.50\n",
      "- Lower transition bandwidth: 0.50 Hz (-6 dB cutoff frequency: 0.25 Hz)\n",
      "- Upper passband edge: 48.00 Hz\n",
      "- Upper transition bandwidth: 12.00 Hz (-6 dB cutoff frequency: 54.00 Hz)\n",
      "- Filter length: 1651 samples (6.604 sec)\n",
      "\n",
      "Fitting ICA to data using 32 channels (please be patient, this may take a while)\n"
     ]
    },
    {
     "name": "stderr",
     "output_type": "stream",
     "text": [
      "[Parallel(n_jobs=1)]: Using backend SequentialBackend with 1 concurrent workers.\n",
      "[Parallel(n_jobs=1)]: Done   1 out of   1 | elapsed:    0.0s remaining:    0.0s\n",
      "[Parallel(n_jobs=1)]: Done   2 out of   2 | elapsed:    0.0s remaining:    0.0s\n",
      "[Parallel(n_jobs=1)]: Done   3 out of   3 | elapsed:    0.0s remaining:    0.0s\n",
      "[Parallel(n_jobs=1)]: Done   4 out of   4 | elapsed:    0.0s remaining:    0.0s\n",
      "[Parallel(n_jobs=1)]: Done  32 out of  32 | elapsed:    0.0s finished\n"
     ]
    },
    {
     "name": "stdout",
     "output_type": "stream",
     "text": [
      "Selecting by number: 30 components\n",
      "Fitting ICA took 3.1s.\n",
      "Applying ICA to Raw instance\n",
      "    Transforming to ICA space (30 components)\n",
      "    Zeroing out 3 ICA components\n",
      "    Projecting back using 32 PCA components\n",
      "Not setting metadata\n",
      "51 matching events found\n",
      "No baseline correction applied\n",
      "0 projection items activated\n",
      "Fitting ICA took 4.3s.\n",
      "Applying ICA to Raw instance\n",
      "    Transforming to ICA space (30 components)\n",
      "    Zeroing out 2 ICA components\n",
      "    Projecting back using 32 PCA components\n",
      "Not setting metadata\n",
      "49 matching events found\n",
      "No baseline correction applied\n",
      "0 projection items activated\n",
      "This MNE preproc code run in parallel took 8.467037200927734 seconds to run\n"
     ]
    }
   ],
   "source": [
    "#Run the preprocessing function in Parallel \n",
    "t0 = time()\n",
    "batch_size = 5\n",
    "epochs_preproc = []\n",
    "\n",
    "for i in range(0, len(navigate_files[day]), batch_size):\n",
    "    batch_files = navigate_files[day][i:i+batch_size]\n",
    "\n",
    "    batch_epochs_preproc = Parallel(n_jobs=8)(delayed(run_preproc)(eeg_file) for eeg_file in batch_files)\n",
    "\n",
    "    epochs_preproc.extend(batch_epochs_preproc)\n",
    "    \n",
    "    # Take a 40-second break before processing the next batch\n",
    "    if i + batch_size < len(navigate_files[day]):\n",
    "        print(\"Taking a 40-second break...\")\n",
    "        sleep(40)\n",
    "t1 = time()\n",
    "print(f'This MNE preproc code run in parallel took {t1 - t0} seconds to run')"
   ]
  },
  {
   "cell_type": "code",
   "execution_count": 25,
   "id": "22a60e6d",
   "metadata": {},
   "outputs": [
    {
     "name": "stdout",
     "output_type": "stream",
     "text": [
      "Using data from preloaded Raw for 51 events and 626 original time points ...\n",
      "0 bad epochs dropped\n",
      "Using data from preloaded Raw for 1 events and 626 original time points ...\n",
      "Using data from preloaded Raw for 51 events and 626 original time points ...\n",
      "Using data from preloaded Raw for 49 events and 626 original time points ...\n",
      "0 bad epochs dropped\n",
      "Using data from preloaded Raw for 1 events and 626 original time points ...\n",
      "Using data from preloaded Raw for 49 events and 626 original time points ...\n"
     ]
    }
   ],
   "source": [
    "# Save all the preprocessed epochs \n",
    "for j, epochs in enumerate(epochs_preproc):\n",
    "    subject_id = 'sub-{}'.format(participant_ids[j])\n",
    "    filename = '{}_{}_{}-epo.fif'.format(subject_id, EEGtask, day)\n",
    "    filepath = os.path.join(save_path, filename)\n",
    "    epochs.save(filepath, overwrite=True)\n",
    "    #print(filepath)\n"
   ]
  },
  {
   "cell_type": "code",
   "execution_count": null,
   "id": "c3b053b6",
   "metadata": {},
   "outputs": [],
   "source": []
  },
  {
   "cell_type": "code",
   "execution_count": null,
   "id": "66b831e2",
   "metadata": {},
   "outputs": [],
   "source": []
  },
  {
   "cell_type": "code",
   "execution_count": null,
   "id": "35707415",
   "metadata": {},
   "outputs": [],
   "source": []
  },
  {
   "cell_type": "code",
   "execution_count": null,
   "id": "2dbb14af",
   "metadata": {},
   "outputs": [],
   "source": []
  },
  {
   "cell_type": "code",
   "execution_count": null,
   "id": "66fdd080",
   "metadata": {},
   "outputs": [],
   "source": []
  },
  {
   "cell_type": "code",
   "execution_count": null,
   "id": "e79c095f",
   "metadata": {},
   "outputs": [],
   "source": [
    "\n",
    "    "
   ]
  },
  {
   "cell_type": "code",
   "execution_count": null,
   "id": "664475a1",
   "metadata": {},
   "outputs": [],
   "source": []
  },
  {
   "cell_type": "code",
   "execution_count": null,
   "id": "2411b157",
   "metadata": {},
   "outputs": [],
   "source": []
  },
  {
   "cell_type": "code",
   "execution_count": null,
   "id": "5fa22a86",
   "metadata": {},
   "outputs": [],
   "source": []
  },
  {
   "cell_type": "code",
   "execution_count": null,
   "id": "5097449b",
   "metadata": {},
   "outputs": [],
   "source": []
  },
  {
   "cell_type": "code",
   "execution_count": null,
   "id": "1a9f7b78",
   "metadata": {},
   "outputs": [],
   "source": []
  },
  {
   "cell_type": "code",
   "execution_count": null,
   "id": "b29d8f0c",
   "metadata": {},
   "outputs": [],
   "source": []
  },
  {
   "cell_type": "code",
   "execution_count": null,
   "id": "3f9c01a7",
   "metadata": {},
   "outputs": [],
   "source": []
  },
  {
   "cell_type": "code",
   "execution_count": null,
   "id": "703d20ba",
   "metadata": {},
   "outputs": [],
   "source": [
    "\n"
   ]
  },
  {
   "cell_type": "code",
   "execution_count": null,
   "id": "7945877c",
   "metadata": {},
   "outputs": [],
   "source": []
  },
  {
   "cell_type": "code",
   "execution_count": null,
   "id": "c7bc3ae2",
   "metadata": {},
   "outputs": [],
   "source": []
  },
  {
   "cell_type": "code",
   "execution_count": null,
   "id": "d6445e3c",
   "metadata": {},
   "outputs": [],
   "source": []
  },
  {
   "cell_type": "code",
   "execution_count": null,
   "id": "59fd6d6a",
   "metadata": {},
   "outputs": [],
   "source": []
  },
  {
   "cell_type": "code",
   "execution_count": null,
   "id": "c5c79815",
   "metadata": {},
   "outputs": [],
   "source": []
  },
  {
   "cell_type": "code",
   "execution_count": null,
   "id": "5a1aea64",
   "metadata": {},
   "outputs": [],
   "source": []
  },
  {
   "cell_type": "code",
   "execution_count": null,
   "id": "3b648401",
   "metadata": {},
   "outputs": [],
   "source": []
  },
  {
   "cell_type": "code",
   "execution_count": null,
   "id": "57262633",
   "metadata": {},
   "outputs": [],
   "source": []
  },
  {
   "cell_type": "code",
   "execution_count": null,
   "id": "1e3b6c11",
   "metadata": {},
   "outputs": [],
   "source": []
  }
 ],
 "metadata": {
  "kernelspec": {
   "display_name": "Python 3 (ipykernel)",
   "language": "python",
   "name": "python3"
  },
  "language_info": {
   "codemirror_mode": {
    "name": "ipython",
    "version": 3
   },
   "file_extension": ".py",
   "mimetype": "text/x-python",
   "name": "python",
   "nbconvert_exporter": "python",
   "pygments_lexer": "ipython3",
   "version": "3.10.11"
  }
 },
 "nbformat": 4,
 "nbformat_minor": 5
}
