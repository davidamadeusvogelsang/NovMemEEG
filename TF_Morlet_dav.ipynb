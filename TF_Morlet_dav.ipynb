{
 "cells": [
  {
   "cell_type": "code",
   "execution_count": null,
   "id": "ef5847eb",
   "metadata": {},
   "outputs": [],
   "source": [
    "# Import some libraries first... \n",
    "import os\n",
    "import re\n",
    "import mne\n",
    "import numpy as np\n",
    "import pandas as pd\n",
    "import matplotlib.pyplot as plt\n",
    "from mne.stats import permutation_cluster_test\n",
    "from mne.stats import permutation_cluster_1samp_test\n",
    "\n",
    "\n",
    "from time import time\n",
    "from joblib import Parallel, delayed"
   ]
  },
  {
   "cell_type": "code",
   "execution_count": null,
   "id": "6c090cf5",
   "metadata": {},
   "outputs": [],
   "source": [
    "data_dir = '/add/your/path/here/'\n",
    "\n",
    "output_dir = '/add/your/path/here/'\n",
    "save_plot_path = '/add/your/path/here/' # testest\n",
    "save_Morlet_mean_theta_path = '/add/your/path/here/' # testest\n",
    "\n",
    "\n",
    "# Specify which condition is used \n",
    "NOVEL = False\n",
    "FAMIL = True "
   ]
  },
  {
   "cell_type": "code",
   "execution_count": null,
   "id": "dded6f71",
   "metadata": {},
   "outputs": [],
   "source": [
    "# Define what epoch you want to analyse and which EEG task to use \n",
    "epoch = \"DM_rem\" #DM_rem or Hit_recog # Hit_trig can be used for landmark \n",
    "day = \"DAY1\"\n",
    "EEGtask = \"memTask\" #memTasklandmark\n",
    "\n",
    "participant_ids = []\n",
    "eeg_files = {\"DAY1\": [], \"DAY2\": []}\n",
    "\n",
    "pattern = r\"sub-(\\d+)_\"\n",
    "data_dirs = data_dir + day"
   ]
  },
  {
   "cell_type": "code",
   "execution_count": null,
   "id": "07cda2d4",
   "metadata": {},
   "outputs": [],
   "source": [
    "# Set the parameters for the Morlet wavelet\n",
    "freqs = np.arange(3, 30, 1)  \n",
    "n_cycles = 5  \n",
    "tf_power = []"
   ]
  },
  {
   "cell_type": "code",
   "execution_count": null,
   "id": "9566383f",
   "metadata": {},
   "outputs": [],
   "source": [
    "for participant_folder in os.listdir(data_dirs):\n",
    "    \n",
    "    participant_id = participant_folder.split('-')[1]\n",
    "    participant_ids.append(participant_id)\n",
    "    eeg_file = os.path.join(data_dirs, participant_folder)\n",
    "    \n",
    "    eeg_files[day].append(eeg_file)\n",
    "print(eeg_files[day])"
   ]
  },
  {
   "cell_type": "code",
   "execution_count": null,
   "id": "a7d53f16",
   "metadata": {},
   "outputs": [],
   "source": [
    "def run_Morlet(eeg_preproc_file):\n",
    "    \n",
    "    epochs = mne.read_epochs(eeg_preproc_file)\n",
    "    power, itc = mne.time_frequency.tfr_morlet(epochs[epoch], n_cycles=n_cycles, return_itc=True,\n",
    "                                  freqs=freqs, decim=3, average=True)\n",
    "    power.apply_baseline(mode=\"zscore\", baseline=(-0.7, -0.2))\n",
    "    itc.apply_baseline(mode=\"zscore\", baseline=(-0.7, -0.2))\n",
    "    \n",
    "    return (power, itc) "
   ]
  },
  {
   "cell_type": "code",
   "execution_count": null,
   "id": "b265478c",
   "metadata": {},
   "outputs": [],
   "source": [
    "# Run the Morlet Wavelet function in parallel port \n",
    "t0 = time()\n",
    "power_itc_pairs = Parallel(n_jobs=4)(delayed(run_Morlet)(eeg_preproc_file) for eeg_preproc_file in eeg_files[day])\n",
    "tf_power, tf_itc = zip(*power_itc_pairs)  \n",
    "t1 = time()\n",
    "print(f'This MNE Morlet Wavelet code run in parallel took {t1 - t0} seconds to run')\n",
    "\n",
    "\n",
    "for i, pair in enumerate(power_itc_pairs):\n",
    "    participant_id = os.path.basename(eeg_files[day][i]).split(\"_\")[0]  \n",
    "    participant_output_dir = os.path.join(output_dir, participant_id, day)\n",
    "    os.makedirs(participant_output_dir, exist_ok=True)  \n",
    "    \n",
    "    power, itc = pair\n",
    "    \n",
    "    power_file = os.path.join(participant_output_dir, f\"{participant_id}_{epoch}power.npy\")\n",
    "    itc_file = os.path.join(participant_output_dir, f\"{participant_id}_{epoch}itc.npy\")\n",
    "    \n",
    "    np.save(power_file, power)\n",
    "    np.save(itc_file, itc)"
   ]
  }
 ],
 "metadata": {
  "kernelspec": {
   "display_name": "Python 3 (ipykernel)",
   "language": "python",
   "name": "python3"
  },
  "language_info": {
   "codemirror_mode": {
    "name": "ipython",
    "version": 3
   },
   "file_extension": ".py",
   "mimetype": "text/x-python",
   "name": "python",
   "nbconvert_exporter": "python",
   "pygments_lexer": "ipython3",
   "version": "3.10.11"
  }
 },
 "nbformat": 4,
 "nbformat_minor": 5
}
